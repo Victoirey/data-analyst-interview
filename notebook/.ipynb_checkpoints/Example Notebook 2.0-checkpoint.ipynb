{
 "cells": [
  {
   "cell_type": "code",
   "execution_count": null,
   "id": "d88899fe",
   "metadata": {},
   "outputs": [],
   "source": [
    "#Imports \n",
    "\n",
    "import numpy as np # linear algebra\n",
    "import pandas as pd # data processing, CSV file I/O (e.g. pd.read_csv)\n",
    "import sqlite3\n",
    "import matplotlib.pyplot as plt\n",
    "\n",
    "# Input data files are available in the \"../data/\" directory.\n",
    "# For example, running this (by clicking run or pressing Shift+Enter) will list the files in the input directory\n",
    "\n",
    "path = \"../data/\"  #Insert path here\n",
    "database = path + 'products.db'"
   ]
  },
  {
   "cell_type": "raw",
   "id": "2ffbca74",
   "metadata": {},
   "source": [
    "Create Database connection:"
   ]
  },
  {
   "cell_type": "code",
   "execution_count": null,
   "id": "714a292f",
   "metadata": {},
   "outputs": [],
   "source": [
    "conn = sqlite3.connect(database)\n",
    "\n",
    "tables = pd.read_sql(\"\"\"SELECT *\n",
    "                        FROM sqlite_master\n",
    "                        WHERE type='table';\"\"\", conn)\n",
    "tables"
   ]
  },
  {
   "cell_type": "raw",
   "id": "74e11f90",
   "metadata": {},
   "source": [
    "If you can see the 'tables' object above, then you're good to go!"
   ]
  },
  {
   "cell_type": "code",
   "execution_count": null,
   "id": "c228eb3e",
   "metadata": {},
   "outputs": [],
   "source": [
    "products = pd.read_sql(\"\"\"\n",
    "                        SELECT name\n",
    "                        FROM tb_product \n",
    "                        LIMIT 10;\n",
    "                        \"\"\", conn)\n",
    "products"
   ]
  }
 ],
 "metadata": {
  "kernelspec": {
   "display_name": "Python 3 (ipykernel)",
   "language": "python",
   "name": "python3"
  },
  "language_info": {
   "codemirror_mode": {
    "name": "ipython",
    "version": 3
   },
   "file_extension": ".py",
   "mimetype": "text/x-python",
   "name": "python",
   "nbconvert_exporter": "python",
   "pygments_lexer": "ipython3",
   "version": "3.9.12"
  }
 },
 "nbformat": 4,
 "nbformat_minor": 5
}
